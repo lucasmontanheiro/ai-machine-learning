{
  "nbformat": 4,
  "nbformat_minor": 0,
  "metadata": {
    "colab": {
      "provenance": [],
      "collapsed_sections": []
    },
    "kernelspec": {
      "name": "python3",
      "display_name": "Python 3"
    },
    "language_info": {
      "name": "python"
    }
  },
  "cells": [
    {
      "cell_type": "markdown",
      "source": [
        "# TensorFlow\n",
        "\n",
        "## Module 04: Core Learning Algorithms: Categorization\n",
        "https://www.freecodecamp.org/learn/machine-learning-with-python/tensorflow/core-learning-algorithms\n",
        "\n",
        "freecodecamp.com"
      ],
      "metadata": {
        "id": "79GaUqHIT3OC"
      }
    },
    {
      "cell_type": "markdown",
      "source": [
        ">[TensorFlow](#scrollTo=79GaUqHIT3OC)\n",
        "\n",
        ">>[Module 04: Core Learning Algorithms: Categorization](#scrollTo=79GaUqHIT3OC)\n",
        "\n",
        ">>>[Categorization](#scrollTo=3FOT-AYdU9S5)\n",
        "\n",
        ">>>[Data](#scrollTo=_DvxuHHjixV0)\n",
        "\n",
        ">>[Resources](#scrollTo=nSpipOqGclEm)\n",
        "\n"
      ],
      "metadata": {
        "colab_type": "toc",
        "id": "7l62rliIvNax"
      }
    },
    {
      "cell_type": "markdown",
      "source": [
        "In this module we'll learn about 4 main algorithms:\n",
        "1. Linear regression\n",
        "2. Classification\n",
        "3. Clustering\n",
        "4. Hidden Markov Models"
      ],
      "metadata": {
        "id": "r9alsRZpURK-"
      }
    },
    {
      "cell_type": "markdown",
      "source": [
        "### 2. Categorization\n",
        "Categorization is used to categorize. :)"
      ],
      "metadata": {
        "id": "3FOT-AYdU9S5"
      }
    },
    {
      "cell_type": "code",
      "execution_count": null,
      "metadata": {
        "id": "b2rc_iIVTzz-"
      },
      "outputs": [],
      "source": [
        "!pip install -q sklearn"
      ]
    },
    {
      "cell_type": "code",
      "source": [
        "%tensorflow_version 2.x # this line is not required unless you're in a notebook"
      ],
      "metadata": {
        "colab": {
          "base_uri": "https://localhost:8080/"
        },
        "id": "ZQG37bO-h7HI",
        "outputId": "23a3095e-985a-485a-966c-77413f2ad84f"
      },
      "execution_count": null,
      "outputs": [
        {
          "output_type": "stream",
          "name": "stdout",
          "text": [
            "Colab only includes TensorFlow 2.x; %tensorflow_version has no effect.\n"
          ]
        }
      ]
    },
    {
      "cell_type": "code",
      "source": [
        "from __future__ import absolute_import, division, print_function, unicode_literals\n",
        "\n",
        "import pandas as pd\n",
        "import tensorflow as tf"
      ],
      "metadata": {
        "id": "Ree7891biAYA"
      },
      "execution_count": null,
      "outputs": []
    },
    {
      "cell_type": "markdown",
      "source": [
        "### Data\n",
        "\n",
        "The sample program in this document builds and tests a model that classifies Iris flowers into three different species based on the size of their sepals and petals.\n",
        "\n",
        "This dataset has 4 categories of flowers:\n",
        "- Setosa\n",
        "- Versicolor\n",
        "- Virginica\n",
        "\n",
        "You will train a model using the Iris data set. The Iris data set contains four features and one label. The four features identify the following botanical characteristics of individual Iris flowers:\n",
        "\n",
        "- sepal length\n",
        "- sepal width\n",
        "- petal length\n",
        "- petal width"
      ],
      "metadata": {
        "id": "_DvxuHHjixV0"
      }
    },
    {
      "cell_type": "code",
      "source": [
        "CSV_COLUMN_NAMES = ['SepalLength', 'SepalWidth', 'PetalLength', 'PetalWidth', 'Species']\n",
        "SPECIES = ['Setosa', 'Versicolor', 'Virginica']"
      ],
      "metadata": {
        "id": "5_ZJuNyvIw_n"
      },
      "execution_count": null,
      "outputs": []
    },
    {
      "cell_type": "code",
      "source": [
        "train_path = tf.keras.utils.get_file(\n",
        "    \"iris_training.csv\", \"https://storage.googleapis.com/download.tensorflow.org/data/iris_training.csv\")\n",
        "test_path = tf.keras.utils.get_file(\n",
        "    \"iris_test.csv\", \"https://storage.googleapis.com/download.tensorflow.org/data/iris_test.csv\")\n",
        "\n",
        "train = pd.read_csv(train_path, names=CSV_COLUMN_NAMES, header=0)\n",
        "test = pd.read_csv(test_path, names=CSV_COLUMN_NAMES, header=0)"
      ],
      "metadata": {
        "id": "qz-t2e4pJYkH"
      },
      "execution_count": null,
      "outputs": []
    },
    {
      "cell_type": "markdown",
      "source": [
        "## Resources\n",
        "\n",
        "- [X] [Build a linear model with Estimators](https://www.tensorflow.org/tutorials/estimator/premade)"
      ],
      "metadata": {
        "id": "nSpipOqGclEm"
      }
    }
  ]
}